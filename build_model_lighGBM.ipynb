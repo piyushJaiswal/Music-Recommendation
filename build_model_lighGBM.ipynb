{
 "cells": [
  {
   "cell_type": "code",
   "execution_count": 1,
   "metadata": {
    "collapsed": true
   },
   "outputs": [],
   "source": [
    "# load libraries\n",
    "import numpy as np\n",
    "import pandas as pd\n",
    "from datetime import datetime as dt\n",
    "\n",
    "from sklearn.model_selection import train_test_split\n",
    "from sklearn.preprocessing import LabelEncoder\n",
    "import lightgbm as lgb\n",
    "from tqdm import tqdm"
   ]
  },
  {
   "cell_type": "code",
   "execution_count": 2,
   "metadata": {
    "collapsed": true
   },
   "outputs": [],
   "source": [
    "# load data\n",
    "df_train = pd.read_csv(\"../DERIVED/train.csv\")\n",
    "df_test = pd.read_csv(\"../DERIVED/test.csv\")"
   ]
  },
  {
   "cell_type": "code",
   "execution_count": 3,
   "metadata": {},
   "outputs": [
    {
     "name": "stdout",
     "output_type": "stream",
     "text": [
      "(7377418, 49)\n",
      "(2556790, 49)\n"
     ]
    }
   ],
   "source": [
    "print(df_train.shape)\n",
    "print(df_test.shape)\n",
    "# print(df_train.dtypes)\n",
    "# print(df_test.dtypes)"
   ]
  },
  {
   "cell_type": "code",
   "execution_count": 4,
   "metadata": {},
   "outputs": [
    {
     "name": "stderr",
     "output_type": "stream",
     "text": [
      "100%|██████████████████████████████████████████████████████████████████████████████████| 48/48 [01:21<00:00,  1.69s/it]\n"
     ]
    }
   ],
   "source": [
    "# transfrom columns\n",
    "ids = df_test['id'].values\n",
    "df_test.drop(['id'], axis=1, inplace=True)\n",
    "\n",
    "\n",
    "\n",
    "cols = list(df_train.columns)\n",
    "cols.remove('target')\n",
    "df_test = df_test[cols]\n",
    "\n",
    "\n",
    "\n",
    "df_train = df_train.fillna(-1)\n",
    "df_test = df_test.fillna(-1)\n",
    "\n",
    "\n",
    "\n",
    "import gc\n",
    "gc.collect()\n",
    "\n",
    "\n",
    "\n",
    "for col in tqdm(cols):\n",
    "    if df_train[col].dtype == 'object':\n",
    "        df_train[col] = df_train[col].apply(str)\n",
    "        df_test[col] = df_test[col].apply(str)\n",
    "\n",
    "        le = LabelEncoder()\n",
    "        train_vals = list(df_train[col].unique())\n",
    "        test_vals = list(df_test[col].unique())\n",
    "        le.fit(train_vals + test_vals)\n",
    "        df_train[col] = le.transform(df_train[col])\n",
    "        df_test[col] = le.transform(df_test[col])\n",
    "\n",
    "        \n",
    "        \n",
    "X = np.array(df_train.drop(['target'], axis=1))\n",
    "y = df_train['target'].values\n",
    "X_test = np.array(df_test)\n",
    "del df_train, df_test; gc.collect();\n",
    "\n",
    "\n",
    "\n",
    "X_train, X_valid, y_train, y_valid = train_test_split(X, y, test_size=0.3, random_state = 123)\n",
    "del X, y; gc.collect();\n",
    "\n",
    "\n",
    "\n",
    "d_train = lgb.Dataset(X_train, label=y_train)\n",
    "d_valid = lgb.Dataset(X_valid, label=y_valid) \n",
    "watchlist = [d_valid]"
   ]
  },
  {
   "cell_type": "code",
   "execution_count": 5,
   "metadata": {
    "collapsed": true
   },
   "outputs": [],
   "source": [
    "# light gbm parameters\n",
    "params = {\n",
    "        'objective': 'binary',\n",
    "        'metric': 'binary_logloss',\n",
    "        'boosting': 'gbdt',\n",
    "        'learning_rate': 0.1 ,\n",
    "        'verbose': 0,\n",
    "        'num_leaves': 108,\n",
    "        'bagging_fraction': 0.95,\n",
    "        'bagging_freq': 1,\n",
    "        'bagging_seed': 1,\n",
    "        'feature_fraction': 0.9,\n",
    "        'feature_fraction_seed': 1,\n",
    "        'max_bin': 256,\n",
    "        #'min_sum_hessian_in_leaf': 100,\n",
    "        'max_depth': 10,\n",
    "        'metric' : 'auc',\n",
    "        }"
   ]
  },
  {
   "cell_type": "code",
   "execution_count": 6,
   "metadata": {},
   "outputs": [
    {
     "name": "stdout",
     "output_type": "stream",
     "text": [
      "Activating auto-logging. Current session state plus future input saved.\n",
      "Filename       : logfilename\n",
      "Mode           : backup\n",
      "Output logging : True\n",
      "Raw input log  : False\n",
      "Timestamping   : False\n",
      "State          : active\n"
     ]
    }
   ],
   "source": [
    "# create log files\n",
    "import sys\n",
    "logfilename = \"../LOGS/log_model_build_Lightgbm_\" + str(dt.now().strftime('%Y%m%d_%H%M%S')) + \".txt\"\n",
    "%logstart -o logfilename\n",
    "sys.stdout = open(logfilename, 'a')"
   ]
  },
  {
   "cell_type": "code",
   "execution_count": 7,
   "metadata": {
    "collapsed": true
   },
   "outputs": [],
   "source": [
    "# light gbm model by 3 fold\n",
    "print(str(dt.now())+\"\\n\")\n",
    "bst = lgb.train(params, d_train, num_boost_round = 1501, valid_sets = watchlist, early_stopping_rounds=50, verbose_eval=100)\n",
    "print(str(dt.now())+\"\\n\")"
   ]
  },
  {
   "cell_type": "code",
   "execution_count": 8,
   "metadata": {
    "collapsed": true
   },
   "outputs": [],
   "source": [
    "sys.stdout = sys.__stdout__"
   ]
  },
  {
   "cell_type": "code",
   "execution_count": 9,
   "metadata": {
    "collapsed": true
   },
   "outputs": [],
   "source": [
    "# make predicions\n",
    "p_test = bst.predict(X_test)\n",
    "\n",
    "subm = pd.DataFrame()\n",
    "subm['id'] = ids\n",
    "subm['target'] = p_test\n",
    "subm = subm.sort_values(['id'])\n",
    "subm.to_csv('../SUBMISSION/submission_10_lightgbm.csv.gz', compression = 'gzip', index=False, float_format = '%.6f')\n",
    "subm.to_csv('../SUBMISSION/submission_10_lightgbm.csv', index = False)\n",
    "print('Done!')"
   ]
  },
  {
   "cell_type": "code",
   "execution_count": null,
   "metadata": {
    "collapsed": true
   },
   "outputs": [],
   "source": [
    "d = {'Variable': cols, 'Importance': bst.feature_importance(importance_type='split')}\n",
    "d = pd.DataFrame(d)\n",
    "d.sort_values(['Importance'], ascending = False)"
   ]
  },
  {
   "cell_type": "code",
   "execution_count": null,
   "metadata": {
    "collapsed": true
   },
   "outputs": [],
   "source": []
  },
  {
   "cell_type": "code",
   "execution_count": null,
   "metadata": {
    "collapsed": true
   },
   "outputs": [],
   "source": []
  }
 ],
 "metadata": {
  "kernelspec": {
   "display_name": "Python 3",
   "language": "python",
   "name": "python3"
  },
  "language_info": {
   "codemirror_mode": {
    "name": "ipython",
    "version": 3
   },
   "file_extension": ".py",
   "mimetype": "text/x-python",
   "name": "python",
   "nbconvert_exporter": "python",
   "pygments_lexer": "ipython3",
   "version": "3.5.4"
  }
 },
 "nbformat": 4,
 "nbformat_minor": 2
}
